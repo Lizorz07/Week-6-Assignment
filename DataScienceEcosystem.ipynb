{
 "cells": [
  {
   "cell_type": "markdown",
   "id": "14394b1b-fd26-4ea6-a520-87412226f4de",
   "metadata": {},
   "source": [
    "# Data Science Tools and Ecosystem"
   ]
  },
  {
   "cell_type": "markdown",
   "id": "b32313a8-5a39-43cf-a582-c105705289c3",
   "metadata": {},
   "source": [
    "In this notebook, Data Science Tools and Ecosystem are summarized."
   ]
  },
  {
   "cell_type": "markdown",
   "id": "3ed3a7e6-ab69-4f64-805b-b6185986dee9",
   "metadata": {},
   "source": [
    "__Objectives:__\n",
    "* List popular languages for Data Science\n",
    "* List popular libraries used in Data Science\n",
    "* List popular development environments used in Data Science"
   ]
  },
  {
   "cell_type": "markdown",
   "id": "a3b7a479-f59d-4c2b-a1f5-986ef69e8eca",
   "metadata": {},
   "source": [
    "Some of the popular languages that Data Scientists use are:"
   ]
  },
  {
   "cell_type": "markdown",
   "id": "16224c7c-25b4-4957-b89f-4ebf8f2083b6",
   "metadata": {},
   "source": [
    "1. Python\n",
    "2. R\n",
    "3. Java"
   ]
  },
  {
   "cell_type": "markdown",
   "id": "45a32540-e81f-46df-b9b4-cca15f30b26e",
   "metadata": {},
   "source": [
    "Some of the commonly used libraries used by Data Scientists include:"
   ]
  },
  {
   "cell_type": "markdown",
   "id": "2f45f881-c2e1-4f0f-b32f-96026e3ecd7e",
   "metadata": {},
   "source": [
    "1. SciPy\n",
    "2. Pandas\n",
    "3. NumPy"
   ]
  },
  {
   "cell_type": "markdown",
   "id": "7b3f4594-0156-410f-9c14-f76268969fec",
   "metadata": {},
   "source": [
    "|Data Science Tools|\n",
    "|---|\n",
    "|Jupyter Notebooks|\n",
    "|GitHub|\n",
    "|RStudio|\n"
   ]
  },
  {
   "cell_type": "markdown",
   "id": "1b78787c-ef2c-4016-bc9b-9207f944adb3",
   "metadata": {},
   "source": [
    "### Below are a few examples of evaluating arithmetic expressions in Python"
   ]
  },
  {
   "cell_type": "code",
   "execution_count": 1,
   "id": "be29af35-a26f-481b-820b-4ff7fea9667a",
   "metadata": {
    "tags": []
   },
   "outputs": [
    {
     "data": {
      "text/plain": [
       "17"
      ]
     },
     "execution_count": 1,
     "metadata": {},
     "output_type": "execute_result"
    }
   ],
   "source": [
    "# This a simple arithmetic expression to mutiply then add integers\n",
    "(3*4)+5"
   ]
  },
  {
   "cell_type": "code",
   "execution_count": 2,
   "id": "26a11bb1-26be-4e30-afd4-e4c138508729",
   "metadata": {
    "tags": []
   },
   "outputs": [
    {
     "data": {
      "text/plain": [
       "3.3333333333333335"
      ]
     },
     "execution_count": 2,
     "metadata": {},
     "output_type": "execute_result"
    }
   ],
   "source": [
    "# This will convert 200 minutes to hours by diving by 60\n",
    "200/60"
   ]
  },
  {
   "cell_type": "markdown",
   "id": "adf152f7-ca37-4c94-a4af-e8aa5741d9fb",
   "metadata": {},
   "source": [
    "## Author\n",
    "Li"
   ]
  },
  {
   "cell_type": "code",
   "execution_count": null,
   "id": "660bc353-d344-43f0-950c-637fe36afae5",
   "metadata": {},
   "outputs": [],
   "source": []
  }
 ],
 "metadata": {
  "kernelspec": {
   "display_name": "Python",
   "language": "python",
   "name": "conda-env-python-py"
  },
  "language_info": {
   "codemirror_mode": {
    "name": "ipython",
    "version": 3
   },
   "file_extension": ".py",
   "mimetype": "text/x-python",
   "name": "python",
   "nbconvert_exporter": "python",
   "pygments_lexer": "ipython3",
   "version": "3.7.12"
  }
 },
 "nbformat": 4,
 "nbformat_minor": 5
}
